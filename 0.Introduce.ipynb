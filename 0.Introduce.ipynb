{
 "cells": [
  {
   "cell_type": "markdown",
   "metadata": {},
   "source": [
    "    CodeMonkey于2014年1月在以色列成立。它的愿景是建立一个全球性的学习平台，让孩子们通过游戏的方式学习、发现、创造和分享，同时在此过程中获得编程这一项21世纪必备的技能。\n",
    "    \n",
    "    通常提到CodeMonkey是指它推出的Coding Adventure这门课程（如非特别说明，接下来的CodeMonkey即是指Coding Adventure），它也是接下来的文章中将会被重点介绍的内容。\n",
    "    \n",
    "    游戏的主角是一只可爱的小猴子，它的香蕉被一只大猩猩抢走了。\n",
    "<video src=\"video/opening.mp4\" controls=\"controls\" auto = \"1\"></video>\n",
    "    \n",
    "    游戏的目标就是让小朋友以编程的方式，帮助小猴子把香蕉给拿回来。游戏的过程中，小朋友将会学习到基本的计算机科学知识，如变量，数组，for循环，函数定义，条件语句，until循环，if else条件判断，布尔运算，键盘和鼠标事件等，并逐渐掌握编程思维。\n",
    "    目前，CodeMonkey已经推出了超过400个关卡，在全球范围内超过250万用户，并且进入许多新式的学校里,包括硅谷著名的AltSchool. \n",
    "\n",
    "\n",
    "    \n",
    "    其实，除了Coding Adventure之外，CodeMonkey也推出了很多其它的课程，像Game Builder，在这里，小朋友可以自己创建基于Coding Adventure故事情节的游戏，与全球的孩子们分享与交流。另外，CodeMonkey也有基于Python的相应课程。\n",
    "![](image/all_course_4.png)\n",
    "    \n",
    "\n",
    "    "
   ]
  },
  {
   "cell_type": "markdown",
   "metadata": {
    "collapsed": true
   },
   "source": [
    "    可能有人会问，CodeMonkey与同样针对青少年的编程平台Scratch有什么区别?\n",
    "    不同于Scratch拖曳式的搭积木的方式，CodeMonkey开发了一种名为CoffeeScript的语言，它与业界广泛使用的JavaScript一样有用，同时如同Python一样友好直观，因此，它非常适合于小朋友编程入门。\n",
    "    当然也有人会问，CoffeeScript在实际生活中有用吗，工作中能用上吗？\n",
    "    答案是CoffeeScript在实际工作中基本没有多大使用价值，因为它是专门用来作为编程入门使用的。它就像是我们小时候还不会骑自行车时所使用的后面有三个轮子的脚踏车，虽然我们在日常出行中不会将它作为出行工具使用，但它却是学习骑自行车的非常不错的入门工具。\n",
    "    另外，有一点得注意，学习CodeMonkey,并不是为了去学习CoffeeScript这门编程语言。小朋友们要学习的是编程思维，掌握如何使用编程的思想去解决问题。"
   ]
  },
  {
   "cell_type": "markdown",
   "metadata": {},
   "source": [
    "    好了，话不多说，我们先来认识一下游戏界面吧。"
   ]
  },
  {
   "cell_type": "markdown",
   "metadata": {},
   "source": [
    "![](image/0.environment.png)"
   ]
  },
  {
   "cell_type": "markdown",
   "metadata": {},
   "source": [
    "    左边这块背景为绿色草地的部分，是游戏的舞台，可以看作是整个游戏的输出部分。\n",
    "    而右边就是我们写程序的地方啦。我们可以通过直接敲击键盘来输入代码，或是按右下方的按钮，同样可以达到输入的目的。这一块可以看作整个游戏的输入部分。"
   ]
  },
  {
   "cell_type": "markdown",
   "metadata": {},
   "source": [
    "    另外，还有几个小按钮需要介绍一下。\n",
    "    右上角的三个按钮分别是你的头像、关卡切换和菜单。第二个像一张地图似的图标，我们用它来在不同关卡间切换，需要注意的是，你只能在你已通关的关卡之间切换。\n",
    "    右边最下方，有一排可以输入代码的按钮，例如上图中的画着两只小脚丫的step按钮，按下它，编码区就会输入step了。\n",
    "    那个绿底黑字的RUN按钮，是用来运行你所写的代码的开关。当它被单击按下以后，左边舞台上的角色，就会按照你所书写的代码来执行相应的动作啦。"
   ]
  },
  {
   "cell_type": "markdown",
   "metadata": {},
   "source": [
    "    好的，现在让我们来看一个视频，具体感受一下吧。\n",
    "<video src=\"video/0.mp4\" controls=\"controls\" auto = \"1\"></video>    "
   ]
  }
 ],
 "metadata": {
  "kernelspec": {
   "display_name": "Python 3",
   "language": "python",
   "name": "python3"
  },
  "language_info": {
   "codemirror_mode": {
    "name": "ipython",
    "version": 3
   },
   "file_extension": ".py",
   "mimetype": "text/x-python",
   "name": "python",
   "nbconvert_exporter": "python",
   "pygments_lexer": "ipython3",
   "version": "3.6.2"
  }
 },
 "nbformat": 4,
 "nbformat_minor": 2
}
